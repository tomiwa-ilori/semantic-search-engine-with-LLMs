{
  "cells": [
    {
      "cell_type": "code",
      "execution_count": 1,
      "metadata": {
        "id": "x29WwUU78PYk"
      },
      "outputs": [],
      "source": [
        "# Goal: to build a Semantic Search Engine\n",
        "# Backend: GPT model for textual and vector tensor\n",
        "# Front-end: Streamlit"
      ]
    },
    {
      "cell_type": "code",
      "execution_count": 9,
      "metadata": {
        "id": "zVGbRfONDG-L"
      },
      "outputs": [],
      "source": [
        "# import the libraries\n",
        "import openai\n",
        "import numpy as np\n",
        "import pandas as pd\n",
        "from tqdm import tqdm\n",
        "tqdm.pandas()"
      ]
    },
    {
      "cell_type": "code",
      "execution_count": 14,
      "metadata": {
        "colab": {
          "base_uri": "https://localhost:8080/",
          "height": 206
        },
        "id": "QyQ4HYhYDvoE",
        "outputId": "c344d254-7e25-49ee-c20e-34ff14874f47"
      },
      "outputs": [
        {
          "data": {
            "text/html": [
              "<div>\n",
              "<style scoped>\n",
              "    .dataframe tbody tr th:only-of-type {\n",
              "        vertical-align: middle;\n",
              "    }\n",
              "\n",
              "    .dataframe tbody tr th {\n",
              "        vertical-align: top;\n",
              "    }\n",
              "\n",
              "    .dataframe thead th {\n",
              "        text-align: right;\n",
              "    }\n",
              "</style>\n",
              "<table border=\"1\" class=\"dataframe\">\n",
              "  <thead>\n",
              "    <tr style=\"text-align: right;\">\n",
              "      <th></th>\n",
              "      <th>University</th>\n",
              "    </tr>\n",
              "  </thead>\n",
              "  <tbody>\n",
              "    <tr>\n",
              "      <th>0</th>\n",
              "      <td>University of Andorra</td>\n",
              "    </tr>\n",
              "    <tr>\n",
              "      <th>1</th>\n",
              "      <td>Abu Dhabi University</td>\n",
              "    </tr>\n",
              "    <tr>\n",
              "      <th>2</th>\n",
              "      <td>Ajman University of Science &amp; Technology</td>\n",
              "    </tr>\n",
              "    <tr>\n",
              "      <th>3</th>\n",
              "      <td>Alain University of Science and Technology</td>\n",
              "    </tr>\n",
              "    <tr>\n",
              "      <th>4</th>\n",
              "      <td>Al Ghurair University</td>\n",
              "    </tr>\n",
              "  </tbody>\n",
              "</table>\n",
              "</div>"
            ],
            "text/plain": [
              "                                   University\n",
              "0                       University of Andorra\n",
              "1                        Abu Dhabi University\n",
              "2    Ajman University of Science & Technology\n",
              "3  Alain University of Science and Technology\n",
              "4                       Al Ghurair University"
            ]
          },
          "execution_count": 14,
          "metadata": {},
          "output_type": "execute_result"
        }
      ],
      "source": [
        "# read in dataset\n",
        "data_input_path = \"data/world-universities.csv\"\n",
        "df = pd.read_csv(data_input_path)\n",
        "df.head()"
      ]
    },
    {
      "cell_type": "code",
      "execution_count": 15,
      "metadata": {
        "colab": {
          "base_uri": "https://localhost:8080/"
        },
        "id": "0ALtNxZZQntp",
        "outputId": "1cbdf9fa-66c1-4e00-8a20-e2a72a085115"
      },
      "outputs": [],
      "source": [
        "# prompt user for passkey\n",
        "from getpass import getpass\n",
        "openai_key = getpass()"
      ]
    },
    {
      "cell_type": "code",
      "execution_count": null,
      "metadata": {
        "colab": {
          "base_uri": "https://localhost:8080/",
          "height": 443
        },
        "id": "6_OywVMGSg2c",
        "outputId": "46d4dbe2-2e1c-4c2e-b69c-5b977b04d2b9"
      },
      "outputs": [],
      "source": [
        "\n",
        "# set up the OpenAI client\n",
        "client = openai.OpenAI(api_key = openai_key)\n",
        "\n",
        "# get model for embedding\n",
        "text_embedding_model = 'text-embedding-ada-002'\n",
        "\n",
        "# define a function to get the embeddings\n",
        "def get_embedding(text, model=text_embedding_model):\n",
        "   \"\"\"\n",
        "   Retrieves the embedding for a given text using the specified model.\n",
        "\n",
        "   Parameters:\n",
        "   text (str): The input text to be embedded.\n",
        "   model (str): The name of the model to use for embedding. Default is 'text-embedding-ada-002'.\n",
        "\n",
        "   Returns:\n",
        "   list: The embedding vector for the input text.\n",
        "   \"\"\"\n",
        "   if \"\\n\" in text:\n",
        "      text = text.replace(\"\\n\", \" \")\n",
        "   return client.embeddings.create(input = [text], model=model).data[0].embedding\n",
        "\n",
        "# get the embeddings\n",
        "df['ada_embeddings'] = df['University'].progress_apply(lambda x: get_embedding(x, model=text_embedding_model))\n",
        "\n",
        "# save the embeddings\n",
        "df.to_csv('data/University_reviews.csv', index=False)"
      ]
    },
    {
      "cell_type": "code",
      "execution_count": null,
      "metadata": {
        "id": "9WS6H5QgWuaT"
      },
      "outputs": [],
      "source": []
    }
  ],
  "metadata": {
    "colab": {
      "provenance": []
    },
    "kernelspec": {
      "display_name": "Python 3",
      "name": "python3"
    },
    "language_info": {
      "codemirror_mode": {
        "name": "ipython",
        "version": 3
      },
      "file_extension": ".py",
      "mimetype": "text/x-python",
      "name": "python",
      "nbconvert_exporter": "python",
      "pygments_lexer": "ipython3",
      "version": "3.12.0"
    }
  },
  "nbformat": 4,
  "nbformat_minor": 0
}
